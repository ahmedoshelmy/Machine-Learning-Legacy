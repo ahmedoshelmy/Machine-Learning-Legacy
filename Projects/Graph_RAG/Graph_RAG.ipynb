{
 "cells": [
  {
   "cell_type": "code",
   "execution_count": 13,
   "metadata": {},
   "outputs": [],
   "source": [
    "from dotenv import load_dotenv\n",
    "import os\n",
    "import json\n",
    "import textwrap\n",
    "\n",
    "from langchain_neo4j import Neo4jGraph, GraphCypherQAChain\n",
    "from langchain_experimental.graph_transformers import LLMGraphTransformer\n",
    "from langchain.docstore.document import Document\n",
    "from langchain.chains import GraphCypherQAChain\n",
    "from langchain_community.llms import Ollama\n",
    "from langchain_neo4j.chains.graph_qa.cypher import GraphCypherQAChain\n",
    "\n",
    "# Warning control\n",
    "import warnings\n",
    "warnings.filterwarnings(\"ignore\")"
   ]
  },
  {
   "cell_type": "code",
   "execution_count": 14,
   "metadata": {},
   "outputs": [],
   "source": [
    "load_dotenv('.env', override=True)\n",
    "NEO4J_URI = os.getenv('NEO4J_URI')\n",
    "NEO4J_USERNAME = os.getenv('NEO4J_USERNAME')\n",
    "NEO4J_PASSWORD = os.getenv('NEO4J_PASSWORD')\n",
    "NEO4J_DATABASE = os.getenv('NEO4J_DATABASE')\n",
    "OPENAI_API_KEY = os.getenv('OPENAI_API_KEY')\n",
    "OPENAI_ENDPOINT = 'https://api.openai.com/v1/embeddings'\n",
    "\n",
    "VECTOR_INDEX_NAME = 'form_10k_chunks'\n",
    "VECTOR_NODE_LABEL = 'Chunk'\n",
    "VECTOR_SOURCE_PROPERTY = 'text'\n",
    "VECTOR_EMBEDDING_PROPERTY = 'textEmbedding'"
   ]
  },
  {
   "cell_type": "code",
   "execution_count": 15,
   "metadata": {},
   "outputs": [],
   "source": [
    "graph = Neo4jGraph(\n",
    "    url=\"bolt://localhost:7685\",\n",
    "    username=\"neo4j\",\n",
    "    password=\"myPassword\"\n",
    ")"
   ]
  },
  {
   "cell_type": "code",
   "execution_count": 16,
   "metadata": {},
   "outputs": [],
   "source": [
    "llm = Ollama(\n",
    "    model=\"llama3\",  \n",
    "    temperature=0,\n",
    ")\n",
    "llm_transformer = LLMGraphTransformer(llm=llm)"
   ]
  },
  {
   "cell_type": "code",
   "execution_count": 17,
   "metadata": {},
   "outputs": [],
   "source": [
    "text = \"\"\"\n",
    "Nikola Tesla, born in 1856 in the small village of Smiljan in modern-day Croatia, was a visionary inventor, electrical engineer, and mechanical engineer whose ideas transcended borders and reshaped the world. Raised in a culturally diverse region of the Austro-Hungarian Empire, Tesla was influenced by the rich traditions of Croatian, Serbian, and Austrian communities, an experience that sparked his lifelong passion for innovation. He later pursued his studies in engineering and physics in Austria and France, where the vibrant academic and experimental environments further honed his groundbreaking ideas.\n",
    "\n",
    "In his early career, Tesla's fascination with the unseen forces of nature led him to explore cutting-edge theories and conduct daring experiments that challenged conventional science. His relentless curiosity and innovative spirit drove him to delve into areas such as wireless transmission of energy, radio frequency experimentation, and the development of early robotics concepts, laying the groundwork for technologies that would only be fully appreciated decades later.\n",
    "\n",
    "Tesla is renowned for his pioneering work in developing the alternating current (AC) electrical system, a transformative achievement that revolutionized global power distribution and set the stage for modern energy infrastructures. His innovations not only impacted the United States—where his inventions were widely adopted—but also left a lasting mark in other parts of Europe and beyond, including influential collaborations with scientists and engineers in Serbia, England, and Italy. His work fostered international dialogue in the scientific community, helping to bridge geographical and cultural divides, and inspiring future generations to challenge established norms.\n",
    "\n",
    "Throughout his career, Tesla's journey intertwined several key nodes: his birthplace (Smiljan), his multifaceted professional roles (inventor, electrical engineer, mechanical engineer), and his seminal contributions (the AC power system, advancements in radio technology, and innovations in wireless communication). Moreover, his later endeavors into renewable energy concepts and his visionary proposals for harnessing natural forces have only deepened his legacy. These interconnected nodes illustrate how Tesla’s early experiences, diverse expertise, and international influences collectively forged a legacy that continues to inspire technological progress across the globe.\n",
    "\"\"\"\n",
    "\n",
    "docs = [Document(page_content=text)]\n"
   ]
  },
  {
   "cell_type": "code",
   "execution_count": 18,
   "metadata": {},
   "outputs": [
    {
     "name": "stdout",
     "output_type": "stream",
     "text": [
      "Derived Nodes:\n",
      "[Node(id='Nikola Tesla', type='Person', properties={}), Node(id='Alternating Current (AC) electrical system', type='Technology', properties={}), Node(id='Austria', type='Country', properties={}), Node(id='Scientists and engineers in Serbia, England, and Italy', type='People', properties={}), Node(id='Smiljan', type='Location', properties={}), Node(id='Croatian, Serbian, and Austrian communities', type='Cultures', properties={}), Node(id='France', type='Country', properties={}), Node(id='Austro-Hungarian Empire', type='Region', properties={})]\n",
      "\n",
      "Derived Edges:\n",
      "[Relationship(source=Node(id='Nikola Tesla', type='Person', properties={}), target=Node(id='Smiljan', type='Location', properties={}), type='BORN_IN', properties={}), Relationship(source=Node(id='Nikola Tesla', type='Person', properties={}), target=Node(id='Austro-Hungarian Empire', type='Region', properties={}), type='RAISED_IN', properties={}), Relationship(source=Node(id='Nikola Tesla', type='Person', properties={}), target=Node(id='Austria', type='Country', properties={}), type='STUDIED_IN', properties={}), Relationship(source=Node(id='Nikola Tesla', type='Person', properties={}), target=Node(id='France', type='Country', properties={}), type='STUDIED_IN', properties={}), Relationship(source=Node(id='Nikola Tesla', type='Person', properties={}), target=Node(id='Alternating Current (AC) electrical system', type='Technology', properties={}), type='WORKED_ON', properties={}), Relationship(source=Node(id='Nikola Tesla', type='Person', properties={}), target=Node(id='Croatian, Serbian, and Austrian communities', type='Cultures', properties={}), type='INFLUENCED_BY', properties={}), Relationship(source=Node(id='Nikola Tesla', type='Person', properties={}), target=Node(id='Scientists and engineers in Serbia, England, and Italy', type='People', properties={}), type='COLLABORATED_WITH', properties={})]\n"
     ]
    }
   ],
   "source": [
    "graph_documents = llm_transformer.convert_to_graph_documents(docs)\n",
    "print(f\"Derived Nodes:\\n{graph_documents[0].nodes}\\n\")\n",
    "print(f\"Derived Edges:\\n{graph_documents[0].relationships}\")"
   ]
  },
  {
   "cell_type": "code",
   "execution_count": 19,
   "metadata": {},
   "outputs": [
    {
     "name": "stdout",
     "output_type": "stream",
     "text": [
      "Nodes:[Node(id='Smiljan', type='Village', properties={}), Node(id='Mechanical Engineer', type='Profession', properties={}), Node(id='Inventor', type='Profession', properties={}), Node(id='Alternating Current (AC) Electrical System', type='Invention', properties={}), Node(id='Scientists and Engineers in Serbia, England, and Italy', type='Organization', properties={}), Node(id='Electrical Engineer', type='Profession', properties={}), Node(id='Nikola Tesla', type='Person', properties={})]\n",
      "Relationships:[Relationship(source=Node(id='Nikola Tesla', type='Person', properties={}), target=Node(id='Smiljan', type='Village', properties={}), type='BORN_IN', properties={}), Relationship(source=Node(id='Nikola Tesla', type='Person', properties={}), target=Node(id='Inventor', type='Profession', properties={}), type='WORKED_AS', properties={}), Relationship(source=Node(id='Nikola Tesla', type='Person', properties={}), target=Node(id='Electrical Engineer', type='Profession', properties={}), type='WORKED_AS', properties={}), Relationship(source=Node(id='Nikola Tesla', type='Person', properties={}), target=Node(id='Mechanical Engineer', type='Profession', properties={}), type='WORKED_AS', properties={}), Relationship(source=Node(id='Nikola Tesla', type='Person', properties={}), target=Node(id='Alternating Current (AC) Electrical System', type='Invention', properties={}), type='INVENTED', properties={})]\n"
     ]
    }
   ],
   "source": [
    "llm_transformer_filtered = LLMGraphTransformer(\n",
    "    llm=llm,\n",
    "    allowed_nodes=[\n",
    "        \"Person\",        # Individuals (e.g., Nikola Tesla)\n",
    "        \"Country\",       # Countries (e.g., Croatia)\n",
    "        \"City\",          # Cities (if applicable)\n",
    "        \"Village\",       # Smaller settlements (e.g., Smiljan)\n",
    "        \"Organization\",  # Institutions or companies\n",
    "        \"Profession\",    # Roles (e.g., Inventor, Electrical Engineer)\n",
    "        \"Invention\",     # Notable innovations (e.g., AC power system)\n",
    "        \"Date\"           # Dates (e.g., birth date)\n",
    "    ],\n",
    "    allowed_relationships=[\n",
    "        \"BORN_IN\",       # Birthplace relationship\n",
    "        \"NATIONALITY\",   # Nationality association\n",
    "        \"LOCATED_IN\",    # Geographic relationship (e.g., village located in country)\n",
    "        \"WORKED_AT\",     # Employment relationship\n",
    "        \"WORKED_AS\",     # Professional role relationship\n",
    "        \"SPOUSE\",        # Spousal relationship\n",
    "        \"EDUCATED_AT\",   # Education-related relationship\n",
    "        \"INVENTED\"       # Relationship for innovations or inventions\n",
    "    ]\n",
    ")\n",
    "graph_documents_filtered = llm_transformer_filtered.convert_to_graph_documents(\n",
    "    docs\n",
    ")\n",
    "print(f\"Nodes:{graph_documents_filtered[0].nodes}\")\n",
    "print(f\"Relationships:{graph_documents_filtered[0].relationships}\")"
   ]
  },
  {
   "cell_type": "code",
   "execution_count": 20,
   "metadata": {},
   "outputs": [
    {
     "name": "stdout",
     "output_type": "stream",
     "text": [
      "\n",
      "============================================================\n",
      " Document 1\n",
      "============================================================\n",
      " (id='Nikola Tesla' type='Person' properties={}) ─────[BORN_IN]───── (id='Smiljan' type='Village' properties={})\n",
      " (id='Nikola Tesla' type='Person' properties={}) ─────[WORKED_AS]───── (id='Inventor' type='Profession' properties={})\n",
      " (id='Nikola Tesla' type='Person' properties={}) ─────[WORKED_AS]───── (id='Electrical Engineer' type='Profession' properties={})\n",
      " (id='Nikola Tesla' type='Person' properties={}) ─────[WORKED_AS]───── (id='Mechanical Engineer' type='Profession' properties={})\n",
      " (id='Nikola Tesla' type='Person' properties={}) ─────[INVENTED]───── (id='Alternating Current (AC) Electrical System' type='Invention' properties={})\n"
     ]
    }
   ],
   "source": [
    "def print_graph_documents(graph_docs):\n",
    "    for i, doc in enumerate(graph_docs):\n",
    "        header_line = \"=\" * 60\n",
    "        print(f\"\\n{header_line}\\n Document {i+1}\\n{header_line}\")\n",
    "\n",
    "        print(\"\\nNodes:\")\n",
    "        for node in doc.nodes:\n",
    "            print(f\" ┌─ Node Type: {node.type}\")\n",
    "            if node.properties:\n",
    "                for key, value in node.properties.items():\n",
    "                    print(f\" │   {key}: {value}\")\n",
    "            else:\n",
    "                print(\" │   (No properties)\")\n",
    "            print(\" └\" + \"-\" * 40)\n",
    "                \n",
    "        print(\"\\nRelationships:\")\n",
    "        for rel in doc.relationships:\n",
    "            print(f\" ┌─ Relationship Type: {rel.type}\")\n",
    "            print(f\" │   From: {rel.source}\")\n",
    "            print(f\" │   To:   {rel.target}\")\n",
    "            if rel.properties:\n",
    "                print(\" │   Properties:\")\n",
    "                for key, value in rel.properties.items():\n",
    "                    print(f\" │      {key}: {value}\")\n",
    "            else:\n",
    "                print(\" │   (No properties)\")\n",
    "            print(\" └\" + \"-\" * 40)\n",
    "\n",
    "# Call the function\n",
    "# print_graph_documents(graph_documents_filtered)\n",
    "\n",
    "\n",
    "# Alternatively, for a more compact view:\n",
    "def print_compact_graph(graph_docs):\n",
    "    for i, doc in enumerate(graph_docs):\n",
    "        header_line = \"=\" * 60\n",
    "        print(f\"\\n{header_line}\\n Document {i+1}\\n{header_line}\")\n",
    "        \n",
    "        for rel in doc.relationships:\n",
    "            arrow = \"─\" * 5\n",
    "            print(f\" ({rel.source}) {arrow}[{rel.type}]{arrow} ({rel.target})\")\n",
    "            if rel.properties:\n",
    "                print(f\"    Properties: {rel.properties}\")\n",
    "\n",
    "# Call the compact version\n",
    "print_compact_graph(graph_documents_filtered)\n",
    "\n"
   ]
  },
  {
   "cell_type": "code",
   "execution_count": 21,
   "metadata": {},
   "outputs": [],
   "source": [
    "graph.add_graph_documents(graph_documents_filtered)"
   ]
  },
  {
   "cell_type": "code",
   "execution_count": 22,
   "metadata": {},
   "outputs": [],
   "source": [
    "# Create the graph QA chain excluding Concept\n",
    "graph_qa_chain = GraphCypherQAChain.from_llm(\n",
    "    graph=graph, \n",
    "    llm=llm,\n",
    "    allow_dangerous_requests = True,\n",
    "    verbose=True \n",
    ")\n"
   ]
  },
  {
   "cell_type": "code",
   "execution_count": 23,
   "metadata": {},
   "outputs": [
    {
     "name": "stdout",
     "output_type": "stream",
     "text": [
      "\n",
      "\n",
      "\u001b[1m> Entering new GraphCypherQAChain chain...\u001b[0m\n"
     ]
    },
    {
     "name": "stdout",
     "output_type": "stream",
     "text": [
      "Generated Cypher:\n",
      "\u001b[32;1m\u001b[1;3mMATCH (n:Person {id: \"Nikola Tesla\"})-[:BORN_IN]->(m:Location) RETURN m.id AS location_id;\u001b[0m\n",
      "Full Context:\n",
      "\u001b[32;1m\u001b[1;3m[{'location_id': 'Smiljan'}]\u001b[0m\n",
      "\n",
      "\u001b[1m> Finished chain.\u001b[0m\n",
      "Final answer: Smiljan.\n"
     ]
    }
   ],
   "source": [
    "# Invoke the chain with the input provided\n",
    "result = graph_qa_chain.invoke({\n",
    "    \"query\": \"What Location was Nikola Tesla born ?\"\n",
    "})\n",
    "print(f\"Final answer: {result['result']}\")"
   ]
  },
  {
   "cell_type": "code",
   "execution_count": 24,
   "metadata": {},
   "outputs": [
    {
     "name": "stdout",
     "output_type": "stream",
     "text": [
      "\n",
      "\n",
      "\u001b[1m> Entering new GraphCypherQAChain chain...\u001b[0m\n"
     ]
    },
    {
     "name": "stdout",
     "output_type": "stream",
     "text": [
      "Generated Cypher:\n",
      "\u001b[32;1m\u001b[1;3mMATCH (n:Person {id: \"Nikola Tesla\"})-[:IMPACTED]->(c:Country) RETURN c.id AS countryId;\u001b[0m\n",
      "Full Context:\n",
      "\u001b[32;1m\u001b[1;3m[{'countryId': 'United States'}]\u001b[0m\n",
      "\n",
      "\u001b[1m> Finished chain.\u001b[0m\n",
      "Final answer: The United States.\n"
     ]
    }
   ],
   "source": [
    "# Invoke the chain with the input provided\n",
    "result = graph_qa_chain.invoke({\n",
    "    \"query\": \"Where did Nikola Tesla's work made impact?\"\n",
    "})\n",
    "print(f\"Final answer: {result['result']}\")"
   ]
  },
  {
   "cell_type": "code",
   "execution_count": 25,
   "metadata": {},
   "outputs": [
    {
     "name": "stdout",
     "output_type": "stream",
     "text": [
      "\n",
      "\n",
      "\u001b[1m> Entering new GraphCypherQAChain chain...\u001b[0m\n"
     ]
    },
    {
     "name": "stdout",
     "output_type": "stream",
     "text": [
      "Generated Cypher:\n",
      "\u001b[32;1m\u001b[1;3mMATCH (p:Person {id: \"Nikola Tesla\"})-[:WORKED_AS]->(pr:Profession) RETURN pr;\u001b[0m\n",
      "Full Context:\n",
      "\u001b[32;1m\u001b[1;3m[{'pr': {'id': 'Mechanical Engineer'}}, {'pr': {'id': 'Electrical Engineer'}}, {'pr': {'id': 'Inventor'}}]\u001b[0m\n",
      "\n",
      "\u001b[1m> Finished chain.\u001b[0m\n",
      "Final answer: Nikola Tesla had the professional roles of Mechanical Engineer, Electrical Engineer, and Inventor.\n"
     ]
    }
   ],
   "source": [
    "# Cell 3: Query the professional roles held by Nikola Tesla\n",
    "result = graph_qa_chain.invoke({\n",
    "    \"query\": \"What professional roles did Nikola Tesla have?\"\n",
    "})\n",
    "print(f\"Final answer: {result['result']}\")\n"
   ]
  },
  {
   "cell_type": "code",
   "execution_count": 26,
   "metadata": {},
   "outputs": [
    {
     "name": "stdout",
     "output_type": "stream",
     "text": [
      "\n",
      "\n",
      "\u001b[1m> Entering new GraphCypherQAChain chain...\u001b[0m\n",
      "Generated Cypher:\n",
      "\u001b[32;1m\u001b[1;3mMATCH (p:Person {id: \"Nikola Tesla\"})-[:INVENTED]->(i:Invention) RETURN i;\u001b[0m\n",
      "Full Context:\n",
      "\u001b[32;1m\u001b[1;3m[{'i': {'id': 'Alternating Current (AC) electrical system'}}, {'i': {'id': 'Alternating Current (AC) Electrical System'}}]\u001b[0m\n",
      "\n",
      "\u001b[1m> Finished chain.\u001b[0m\n",
      "Final answer: Nikola Tesla is attributed to Alternating Current (AC) electrical system.\n"
     ]
    }
   ],
   "source": [
    "# Cell 4: Query the major inventions or innovations attributed to Nikola Tesla\n",
    "result = graph_qa_chain.invoke({\n",
    "    \"query\": \"What are the major inventions or innovations attributed to Nikola Tesla?\"\n",
    "})\n",
    "print(f\"Final answer: {result['result']}\")\n"
   ]
  },
  {
   "cell_type": "code",
   "execution_count": 27,
   "metadata": {},
   "outputs": [
    {
     "name": "stdout",
     "output_type": "stream",
     "text": [
      "\n",
      "\n",
      "\u001b[1m> Entering new GraphCypherQAChain chain...\u001b[0m\n"
     ]
    },
    {
     "name": "stdout",
     "output_type": "stream",
     "text": [
      "Generated Cypher:\n",
      "\u001b[32;1m\u001b[1;3mMATCH (n:Person {id: \"Nikola Tesla\"})-[:COLLABORATED_WITH]-(g:Group) RETURN g;\u001b[0m\n",
      "Full Context:\n",
      "\u001b[32;1m\u001b[1;3m[{'g': {'id': 'Scientists and engineers in Serbia, England, and Italy'}}]\u001b[0m\n",
      "\n",
      "\u001b[1m> Finished chain.\u001b[0m\n",
      "Final answer: Serbia, England, and Italy.\n"
     ]
    }
   ],
   "source": [
    "# Cell 5: Query the relationships and collaborations involving Nikola Tesla\n",
    "result = graph_qa_chain.invoke({\n",
    "    \"query\": \"What collaborations or relationships did Nikola Tesla have with other entities?\"\n",
    "})\n",
    "print(f\"Final answer: {result['result']}\")\n"
   ]
  }
 ],
 "metadata": {
  "kernelspec": {
   "display_name": "Python 3",
   "language": "python",
   "name": "python3"
  },
  "language_info": {
   "codemirror_mode": {
    "name": "ipython",
    "version": 3
   },
   "file_extension": ".py",
   "mimetype": "text/x-python",
   "name": "python",
   "nbconvert_exporter": "python",
   "pygments_lexer": "ipython3",
   "version": "3.10.12"
  }
 },
 "nbformat": 4,
 "nbformat_minor": 2
}
