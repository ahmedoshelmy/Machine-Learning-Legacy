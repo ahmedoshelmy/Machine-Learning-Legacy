{
 "cells": [
  {
   "cell_type": "code",
   "execution_count": null,
   "metadata": {
    "vscode": {
     "languageId": "plaintext"
    }
   },
   "outputs": [],
   "source": [
    "def print_graph_documents(graph_docs):\n",
    "    for i, doc in enumerate(graph_docs):\n",
    "        header_line = \"=\" * 60\n",
    "        print(f\"\\n{header_line}\\n Document {i+1}\\n{header_line}\")\n",
    "\n",
    "        print(\"\\nNodes:\")\n",
    "        for node in doc.nodes:\n",
    "            print(f\" ┌─ Node Type: {node.type}\")\n",
    "            if node.properties:\n",
    "                for key, value in node.properties.items():\n",
    "                    print(f\" │   {key}: {value}\")\n",
    "            else:\n",
    "                print(\" │   (No properties)\")\n",
    "            print(\" └\" + \"-\" * 40)\n",
    "                \n",
    "        print(\"\\nRelationships:\")\n",
    "        for rel in doc.relationships:\n",
    "            print(f\" ┌─ Relationship Type: {rel.type}\")\n",
    "            print(f\" │   From: {rel.source}\")\n",
    "            print(f\" │   To:   {rel.target}\")\n",
    "            if rel.properties:\n",
    "                print(\" │   Properties:\")\n",
    "                for key, value in rel.properties.items():\n",
    "                    print(f\" │      {key}: {value}\")\n",
    "            else:\n",
    "                print(\" │   (No properties)\")\n",
    "            print(\" └\" + \"-\" * 40)\n",
    "\n",
    "# Call the function\n",
    "print_graph_documents(graph_documents_filtered)\n",
    "\n",
    "\n",
    "# Alternatively, for a more compact view:\n",
    "def print_compact_graph(graph_docs):\n",
    "    for i, doc in enumerate(graph_docs):\n",
    "        header_line = \"=\" * 60\n",
    "        print(f\"\\n{header_line}\\n Document {i+1}\\n{header_line}\")\n",
    "        \n",
    "        for rel in doc.relationships:\n",
    "            arrow = \"─\" * 5\n",
    "            print(f\" ({rel.source}) {arrow}[{rel.type}]{arrow} ({rel.target})\")\n",
    "            if rel.properties:\n",
    "                print(f\"    Properties: {rel.properties}\")\n",
    "\n",
    "# Call the compact version\n",
    "print_compact_graph(graph_documents_filtered)\n"
   ]
  }
 ],
 "metadata": {
  "language_info": {
   "name": "python"
  }
 },
 "nbformat": 4,
 "nbformat_minor": 2
}
