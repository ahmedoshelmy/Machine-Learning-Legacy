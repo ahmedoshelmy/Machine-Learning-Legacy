{
 "cells": [
  {
   "cell_type": "code",
   "execution_count": null,
   "metadata": {},
   "outputs": [],
   "source": [
    "from langchain_community.graphs.index_creator import GraphIndexCreator\n"
   ]
  },
  {
   "cell_type": "code",
   "execution_count": null,
   "metadata": {},
   "outputs": [],
   "source": [
    "index_creator = GraphIndexCreator(llm=llm)\n",
    "text = 'It won''t look like much, but if you stop and look closely, you''ll see a “Field of dreams,” the ground on which America''s future will be built. \\nThis is where Intel, the American company that helped build Silicon Valley, is going to build its $20 billion semiconductor “mega site”. \\nUp to eight state-of-the-art factories in one place. 10,000 new good-paying jobs. '\n",
    "graph = index_creator.from_text(text)\n",
    "print(graph.get_triples())\n",
    "\n",
    "# Add the graph documents, sources, and include entity labels\n",
    "graph.add_graph_documents(graph_documents, \n",
    "include_source=True,\n",
    "baseEntityLabel=True\n",
    ")\n",
    "# Refresh the graph schema\n",
    "graph.refresh_schema()\n",
    "\n",
    "# Print the graph schema\n",
    "print(graph.get_schema)"
   ]
  }
 ],
 "metadata": {
  "kernelspec": {
   "display_name": "Python 3",
   "language": "python",
   "name": "python3"
  },
  "language_info": {
   "name": "python",
   "version": "3.10.12"
  }
 },
 "nbformat": 4,
 "nbformat_minor": 2
}
